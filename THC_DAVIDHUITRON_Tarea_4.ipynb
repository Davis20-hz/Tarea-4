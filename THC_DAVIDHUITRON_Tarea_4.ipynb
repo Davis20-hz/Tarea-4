{
  "nbformat": 4,
  "nbformat_minor": 0,
  "metadata": {
    "colab": {
      "provenance": [],
      "authorship_tag": "ABX9TyNdEkjFkltci2UxFceOHXfG",
      "include_colab_link": true
    },
    "kernelspec": {
      "name": "python3",
      "display_name": "Python 3"
    },
    "language_info": {
      "name": "python"
    }
  },
  "cells": [
    {
      "cell_type": "markdown",
      "metadata": {
        "id": "view-in-github",
        "colab_type": "text"
      },
      "source": [
        "<a href=\"https://colab.research.google.com/github/Davis20-hz/Tarea-4/blob/main/THC_DAVIDHUITRON_Tarea_4.ipynb\" target=\"_parent\"><img src=\"https://colab.research.google.com/assets/colab-badge.svg\" alt=\"Open In Colab\"/></a>"
      ]
    },
    {
      "cell_type": "code",
      "execution_count": 20,
      "metadata": {
        "id": "igWQGqvTzyip",
        "colab": {
          "base_uri": "https://localhost:8080/"
        },
        "outputId": "7fc9d082-72a7-4e3b-ee24-2f9c3dc33a0a"
      },
      "outputs": [
        {
          "output_type": "stream",
          "name": "stdout",
          "text": [
            "Ingrese el primer lado: 1\n",
            "Ingrese el segundo lado: 1\n",
            "Ingrese el tercer lado: 10\n",
            "No cumple la desigualdad triangular\n",
            "Ingrese el primer lado: -1\n",
            "Ingrese el segundo lado: 2\n",
            "Ingrese el tercer lado: 5\n",
            "los lados debe ser positivos\n",
            "Ingrese el primer lado: 4\n",
            "Ingrese el segundo lado: 5\n",
            "Ingrese el tercer lado: 6\n",
            "Los lados del triangulo son: a=4.0,b=5.0,c=6.0\n",
            "El perimetro es:7.5\n",
            "el area del triangulo es:  9.921567416492215\n"
          ]
        }
      ],
      "source": [
        "\n",
        "def area_triangular_heron(a,b,c):\n",
        "   s=(a+b+c)/2 #variable local\n",
        "   area=(s*(s-a)*(s-b)*(s-c))**0.5 #variable local\n",
        "   return area\n",
        "\n",
        "#variables globales\n",
        "a=0\n",
        "b=0\n",
        "c=0\n",
        "\n",
        "while (a<=0 or b<=0 or c<=0) or (a+b<=c or a+c<=b or b+c<=a):\n",
        "  a=float(input(\"Ingrese el primer lado: \"))\n",
        "  b=float(input(\"Ingrese el segundo lado: \"))\n",
        "  c=float(input(\"Ingrese el tercer lado: \"))\n",
        "\n",
        "  if a<=0 or b<=0 or c<=0: #variable local\n",
        "    print(\"los lados debe ser positivos\")\n",
        "  elif a+b<=c or a+c<=b or b+c<=a:#variable local\n",
        "    print(\"No cumple la desigualdad triangular\")\n",
        "\n",
        "resultado= area_triangular_heron(a,b,c)\n",
        "perimetro= (a+b+c)/2\n",
        "\n",
        "print(f\"Los lados del triangulo son: a={a},b={b},c={c}\")\n",
        "print(f\"El perimetro es:{perimetro}\")\n",
        "print(\"el area del triangulo es: \", resultado)\n",
        "\n",
        "\n",
        "\n",
        "\n",
        "\n"
      ]
    }
  ]
}